{
 "cells": [
  {
   "cell_type": "code",
   "execution_count": 2,
   "id": "cf7bb558-4d7d-431a-b7af-df39dcb466be",
   "metadata": {},
   "outputs": [
    {
     "name": "stdout",
     "output_type": "stream",
     "text": [
      "\n",
      "Basic Data Exploration:\n",
      "   Type  Alcohol  Malic   Ash  Alcalinity  Magnesium  Phenols  Flavanoids  \\\n",
      "0     1    14.23   1.71  2.43        15.6        127     2.80        3.06   \n",
      "1     1    13.20   1.78  2.14        11.2        100     2.65        2.76   \n",
      "2     1    13.16   2.36  2.67        18.6        101     2.80        3.24   \n",
      "3     1    14.37   1.95  2.50        16.8        113     3.85        3.49   \n",
      "4     1    13.24   2.59  2.87        21.0        118     2.80        2.69   \n",
      "\n",
      "   Nonflavanoids  Proanthocyanins  Color   Hue  Dilution  Proline  \n",
      "0           0.28             2.29   5.64  1.04      3.92     1065  \n",
      "1           0.26             1.28   4.38  1.05      3.40     1050  \n",
      "2           0.30             2.81   5.68  1.03      3.17     1185  \n",
      "3           0.24             2.18   7.80  0.86      3.45     1480  \n",
      "4           0.39             1.82   4.32  1.04      2.93      735  \n",
      "<class 'pandas.core.frame.DataFrame'>\n",
      "RangeIndex: 178 entries, 0 to 177\n",
      "Data columns (total 14 columns):\n",
      " #   Column           Non-Null Count  Dtype  \n",
      "---  ------           --------------  -----  \n",
      " 0   Type             178 non-null    int64  \n",
      " 1   Alcohol          178 non-null    float64\n",
      " 2   Malic            178 non-null    float64\n",
      " 3   Ash              178 non-null    float64\n",
      " 4   Alcalinity       178 non-null    float64\n",
      " 5   Magnesium        178 non-null    int64  \n",
      " 6   Phenols          178 non-null    float64\n",
      " 7   Flavanoids       178 non-null    float64\n",
      " 8   Nonflavanoids    178 non-null    float64\n",
      " 9   Proanthocyanins  178 non-null    float64\n",
      " 10  Color            178 non-null    float64\n",
      " 11  Hue              178 non-null    float64\n",
      " 12  Dilution         178 non-null    float64\n",
      " 13  Proline          178 non-null    int64  \n",
      "dtypes: float64(11), int64(3)\n",
      "memory usage: 19.6 KB\n",
      "None\n",
      "\n",
      "Generating distribution plots...\n",
      "Generating correlation matrix heatmap...\n",
      "Number of components to explain 95% variance: 10\n",
      "Shape of PCA-transformed data: (178, 10)\n"
     ]
    },
    {
     "name": "stderr",
     "output_type": "stream",
     "text": [
      "C:\\Users\\SURAJ\\anaconda3\\Lib\\site-packages\\sklearn\\cluster\\_kmeans.py:1419: UserWarning: KMeans is known to have a memory leak on Windows with MKL, when there are less chunks than available threads. You can avoid it by setting the environment variable OMP_NUM_THREADS=1.\n",
      "  warnings.warn(\n"
     ]
    },
    {
     "name": "stdout",
     "output_type": "stream",
     "text": [
      "Silhouette Score (Original Data): 0.2849\n",
      "Davies-Bouldin Index (Original Data): 1.3892\n"
     ]
    },
    {
     "name": "stderr",
     "output_type": "stream",
     "text": [
      "C:\\Users\\SURAJ\\anaconda3\\Lib\\site-packages\\sklearn\\cluster\\_kmeans.py:1419: UserWarning: KMeans is known to have a memory leak on Windows with MKL, when there are less chunks than available threads. You can avoid it by setting the environment variable OMP_NUM_THREADS=1.\n",
      "  warnings.warn(\n"
     ]
    },
    {
     "name": "stdout",
     "output_type": "stream",
     "text": [
      "Silhouette Score (PCA Data): 0.2987\n",
      "Davies-Bouldin Index (PCA Data): 1.3363\n"
     ]
    },
    {
     "data": {
      "text/plain": [
       "<Figure size 1500x2000 with 0 Axes>"
      ]
     },
     "metadata": {},
     "output_type": "display_data"
    },
    {
     "data": {
      "text/plain": [
       "<Figure size 1200x1000 with 0 Axes>"
      ]
     },
     "metadata": {},
     "output_type": "display_data"
    },
    {
     "data": {
      "text/plain": [
       "<Figure size 1000x600 with 0 Axes>"
      ]
     },
     "metadata": {},
     "output_type": "display_data"
    },
    {
     "data": {
      "text/plain": [
       "<Figure size 1000x800 with 0 Axes>"
      ]
     },
     "metadata": {},
     "output_type": "display_data"
    },
    {
     "data": {
      "text/plain": [
       "<Figure size 1000x800 with 0 Axes>"
      ]
     },
     "metadata": {},
     "output_type": "display_data"
    }
   ],
   "source": [
    "import pandas as pd\n",
    "import numpy as np\n",
    "import matplotlib.pyplot as plt\n",
    "import seaborn as sns\n",
    "from sklearn.preprocessing import StandardScaler\n",
    "from sklearn.decomposition import PCA\n",
    "from sklearn.cluster import KMeans\n",
    "from sklearn.metrics import silhouette_score, davies_bouldin_score\n",
    "\n",
    "plt.style.use('ggplot')\n",
    "\n",
    "df = pd.read_csv('wine.csv')\n",
    "\n",
    "\n",
    "print(\"\\nBasic Data Exploration:\")\n",
    "print(df.head())\n",
    "print(df.info())\n",
    "\n",
    "X = df.drop('Type', axis=1)\n",
    "\n",
    "print(\"\\nGenerating distribution plots...\")\n",
    "num_features = X.columns\n",
    "plt.figure(figsize=(15, 20))\n",
    "for i, feature in enumerate(num_features):\n",
    "    plt.subplot(7, 2, i + 1)\n",
    "    sns.histplot(X[feature], kde=True)\n",
    "    plt.title(f'Distribution of {feature}')\n",
    "plt.tight_layout()\n",
    "plt.savefig('feature_distributions.png')\n",
    "plt.clf()\n",
    "\n",
    "print(\"Generating correlation matrix heatmap...\")\n",
    "plt.figure(figsize=(12, 10))\n",
    "sns.heatmap(X.corr(), annot=True, cmap='coolwarm', fmt=\".2f\")\n",
    "plt.title('Correlation Matrix of Wine Features')\n",
    "plt.tight_layout()\n",
    "plt.savefig('correlation_matrix.png')\n",
    "plt.clf()\n",
    "\n",
    "scaler = StandardScaler()\n",
    "X_scaled = scaler.fit_transform(X)\n",
    "\n",
    "pca = PCA()\n",
    "X_pca = pca.fit_transform(X_scaled)\n",
    "\n",
    "explained_variance_ratio = pca.explained_variance_ratio_\n",
    "cumulative_explained_variance = np.cumsum(explained_variance_ratio)\n",
    "\n",
    "plt.figure(figsize=(10, 6))\n",
    "plt.plot(range(1, len(explained_variance_ratio) + 1), explained_variance_ratio, marker='o', linestyle='--')\n",
    "plt.plot(range(1, len(explained_variance_ratio) + 1), cumulative_explained_variance, marker='o', linestyle='-', color='red')\n",
    "plt.title('Scree Plot and Cumulative Explained Variance')\n",
    "plt.xlabel('Number of Principal Components')\n",
    "plt.ylabel('Explained Variance Ratio')\n",
    "plt.legend(['Individual Explained Variance', 'Cumulative Explained Variance'])\n",
    "plt.grid(True)\n",
    "plt.savefig('scree_plot.png')\n",
    "plt.clf()\n",
    "\n",
    "n_components = np.argmax(cumulative_explained_variance >= 0.95) + 1\n",
    "print(f\"Number of components to explain 95% variance: {n_components}\")\n",
    "\n",
    "pca = PCA(n_components=n_components)\n",
    "X_pca_transformed = pca.fit_transform(X_scaled)\n",
    "print(f\"Shape of PCA-transformed data: {X_pca_transformed.shape}\")\n",
    "\n",
    "kmeans_original = KMeans(n_clusters=3, random_state=42, n_init='auto')\n",
    "kmeans_original.fit(X_scaled)\n",
    "labels_original = kmeans_original.labels_\n",
    "df['cluster_original'] = labels_original\n",
    "\n",
    "plt.figure(figsize=(10, 8))\n",
    "sns.scatterplot(x='Color', y='Alcohol', hue='cluster_original', data=df, palette='viridis', style='cluster_original', s=100)\n",
    "plt.title('K-means Clustering on Original Data (Color vs. Alcohol)')\n",
    "plt.xlabel('Color')\n",
    "plt.ylabel('Alcohol')\n",
    "plt.legend(title='Cluster')\n",
    "plt.savefig('clustering_original.png')\n",
    "plt.clf()\n",
    "\n",
    "silhouette_original = silhouette_score(X_scaled, labels_original)\n",
    "davies_bouldin_original = davies_bouldin_score(X_scaled, labels_original)\n",
    "print(f\"Silhouette Score (Original Data): {silhouette_original:.4f}\")\n",
    "print(f\"Davies-Bouldin Index (Original Data): {davies_bouldin_original:.4f}\")\n",
    "\n",
    "kmeans_pca = KMeans(n_clusters=3, random_state=42, n_init='auto')\n",
    "kmeans_pca.fit(X_pca_transformed)\n",
    "labels_pca = kmeans_pca.labels_\n",
    "df['cluster_pca'] = labels_pca\n",
    "\n",
    "plt.figure(figsize=(10, 8))\n",
    "sns.scatterplot(x=X_pca_transformed[:, 0], y=X_pca_transformed[:, 1], hue=labels_pca, palette='viridis', style=labels_pca, s=100)\n",
    "plt.title('K-means Clustering on PCA Data (PC1 vs. PC2)')\n",
    "plt.xlabel('Principal Component 1')\n",
    "plt.ylabel('Principal Component 2')\n",
    "plt.legend(title='Cluster')\n",
    "plt.savefig('clustering_pca.png')\n",
    "plt.clf()\n",
    "\n",
    "silhouette_pca = silhouette_score(X_pca_transformed, labels_pca)\n",
    "davies_bouldin_pca = davies_bouldin_score(X_pca_transformed, labels_pca)\n",
    "print(f\"Silhouette Score (PCA Data): {silhouette_pca:.4f}\")\n",
    "print(f\"Davies-Bouldin Index (PCA Data): {davies_bouldin_pca:.4f}\")\n",
    "\n",
    "df.to_csv('wine_clustered.csv', index=False)"
   ]
  },
  {
   "cell_type": "code",
   "execution_count": null,
   "id": "4be74297-8925-4687-9f4e-2c541fb21717",
   "metadata": {},
   "outputs": [],
   "source": []
  }
 ],
 "metadata": {
  "kernelspec": {
   "display_name": "Python [conda env:base] *",
   "language": "python",
   "name": "conda-base-py"
  },
  "language_info": {
   "codemirror_mode": {
    "name": "ipython",
    "version": 3
   },
   "file_extension": ".py",
   "mimetype": "text/x-python",
   "name": "python",
   "nbconvert_exporter": "python",
   "pygments_lexer": "ipython3",
   "version": "3.13.5"
  }
 },
 "nbformat": 4,
 "nbformat_minor": 5
}
